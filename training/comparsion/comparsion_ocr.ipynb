{
 "cells": [
  {
   "cell_type": "code",
   "execution_count": 51,
   "id": "24919175",
   "metadata": {},
   "outputs": [
    {
     "name": "stdout",
     "output_type": "stream",
     "text": [
      "Cell 1: Импорт выполнен, ready to proceed.\n"
     ]
    }
   ],
   "source": [
    "# Cell 1: Настройка путей, импорт и загрузка функций инференса\n",
    "import os\n",
    "import sys\n",
    "import glob\n",
    "import importlib\n",
    "\n",
    "import torch\n",
    "import cv2\n",
    "import numpy as np\n",
    "import pandas as pd\n",
    "from PIL import Image\n",
    "from torchvision import transforms\n",
    "\n",
    "# Корень проекта — две папки выше текущего рабочего каталога\n",
    "project_root = os.path.abspath(os.path.join(os.getcwd(), '..', '..'))\n",
    "if project_root not in sys.path:\n",
    "    sys.path.insert(0, project_root)\n",
    "\n",
    "# Путь до папки inference, чтобы Python видел deep_text_recognition и ocr_inference\n",
    "inference_dir = os.path.join(project_root, 'custom_inference')\n",
    "if inference_dir not in sys.path:\n",
    "    sys.path.insert(0, inference_dir)\n",
    "\n",
    "# Импортируем наш модуль инференса\n",
    "import ocr_inference  # он загружен из inference/ocr_inference.py\n",
    "\n",
    "# Забираем функции из него\n",
    "load_model_and_converter = ocr_inference.load_model_and_converter\n",
    "predict_text             = ocr_inference.predict_text\n",
    "\n",
    "# Пути к моделям и данным\n",
    "MODELS_DIR = os.path.join(inference_dir, 'models', 'ocr')\n",
    "IMAGES_DIR = os.path.join(project_root, 'dataset', 'crops')\n",
    "CSV_PATH   = os.path.join(IMAGES_DIR, 'ocr_data.csv')\n",
    "\n",
    "# Пути до чекпойнтов\n",
    "pth1 = os.path.join(MODELS_DIR, 'TPS-ResNet-BiLSTM-Attn.pth')\n",
    "pth2 = os.path.join(MODELS_DIR, 'best_accuracy.pth')\n",
    "\n",
    "print(\"Cell 1: Импорт выполнен, ready to proceed.\")\n"
   ]
  },
  {
   "cell_type": "code",
   "execution_count": 52,
   "id": "c2301a0e",
   "metadata": {},
   "outputs": [
    {
     "name": "stdout",
     "output_type": "stream",
     "text": [
      "Cell 2: Определены конфигурации opt1 и opt2.\n"
     ]
    }
   ],
   "source": [
    "# Cell 2: Определяем opt1 и opt2 точно так, как при обучении\n",
    "class Opt1:\n",
    "    pass\n",
    "\n",
    "opt1 = Opt1()\n",
    "opt1.imgH = 64\n",
    "opt1.imgW = 50\n",
    "opt1.input_channel     = 1\n",
    "opt1.output_channel    = 512\n",
    "opt1.hidden_size       = 256\n",
    "opt1.num_fiducial      = 20\n",
    "# Словарь длины 36 → num_class = 38\n",
    "opt1.character = '0123456789abcdefghijklmnopqrstuvwxyz'  # len=36\n",
    "opt1.num_class   = len(opt1.character) + 2              # = 38\n",
    "opt1.Transformation    = 'TPS'\n",
    "opt1.FeatureExtraction = 'ResNet'\n",
    "opt1.SequenceModeling  = 'BiLSTM'\n",
    "opt1.Prediction        = 'Attn'\n",
    "opt1.batch_max_length  = 25\n",
    "\n",
    "class Opt2:\n",
    "    pass\n",
    "\n",
    "opt2 = Opt2()\n",
    "opt2.imgH = 100\n",
    "opt2.imgW = 100\n",
    "opt2.input_channel     = 1\n",
    "opt2.output_channel    = 512\n",
    "opt2.hidden_size       = 256\n",
    "opt2.num_fiducial      = 20\n",
    "# Словарь длины 10 → num_class = 12\n",
    "opt2.character = '0123456789'\n",
    "opt2.num_class   = len(opt2.character) + 2  # = 12\n",
    "opt2.Transformation    = 'TPS'\n",
    "opt2.FeatureExtraction = 'ResNet'\n",
    "opt2.SequenceModeling  = 'BiLSTM'\n",
    "opt2.Prediction        = 'Attn'\n",
    "opt2.batch_max_length  = 25\n",
    "\n",
    "print(\"Cell 2: Определены конфигурации opt1 и opt2.\")\n"
   ]
  },
  {
   "cell_type": "code",
   "execution_count": 53,
   "id": "183c3018",
   "metadata": {},
   "outputs": [
    {
     "name": "stdout",
     "output_type": "stream",
     "text": [
      "Первые 5 строк CSV:\n"
     ]
    },
    {
     "data": {
      "application/vnd.microsoft.datawrangler.viewer.v0+json": {
       "columns": [
        {
         "name": "index",
         "rawType": "int64",
         "type": "integer"
        },
        {
         "name": "filename",
         "rawType": "object",
         "type": "string"
        },
        {
         "name": "words",
         "rawType": "int64",
         "type": "integer"
        }
       ],
       "ref": "ed147b9b-bdcd-405e-938e-576dc32aadd4",
       "rows": [
        [
         "0",
         "crop_1006.png",
         "1"
        ],
        [
         "1",
         "crop_1007.png",
         "1"
        ],
        [
         "2",
         "crop_1008.png",
         "1"
        ],
        [
         "3",
         "crop_1009.png",
         "1"
        ],
        [
         "4",
         "crop_1010.png",
         "1"
        ]
       ],
       "shape": {
        "columns": 2,
        "rows": 5
       }
      },
      "text/html": [
       "<div>\n",
       "<style scoped>\n",
       "    .dataframe tbody tr th:only-of-type {\n",
       "        vertical-align: middle;\n",
       "    }\n",
       "\n",
       "    .dataframe tbody tr th {\n",
       "        vertical-align: top;\n",
       "    }\n",
       "\n",
       "    .dataframe thead th {\n",
       "        text-align: right;\n",
       "    }\n",
       "</style>\n",
       "<table border=\"1\" class=\"dataframe\">\n",
       "  <thead>\n",
       "    <tr style=\"text-align: right;\">\n",
       "      <th></th>\n",
       "      <th>filename</th>\n",
       "      <th>words</th>\n",
       "    </tr>\n",
       "  </thead>\n",
       "  <tbody>\n",
       "    <tr>\n",
       "      <th>0</th>\n",
       "      <td>crop_1006.png</td>\n",
       "      <td>1</td>\n",
       "    </tr>\n",
       "    <tr>\n",
       "      <th>1</th>\n",
       "      <td>crop_1007.png</td>\n",
       "      <td>1</td>\n",
       "    </tr>\n",
       "    <tr>\n",
       "      <th>2</th>\n",
       "      <td>crop_1008.png</td>\n",
       "      <td>1</td>\n",
       "    </tr>\n",
       "    <tr>\n",
       "      <th>3</th>\n",
       "      <td>crop_1009.png</td>\n",
       "      <td>1</td>\n",
       "    </tr>\n",
       "    <tr>\n",
       "      <th>4</th>\n",
       "      <td>crop_1010.png</td>\n",
       "      <td>1</td>\n",
       "    </tr>\n",
       "  </tbody>\n",
       "</table>\n",
       "</div>"
      ],
      "text/plain": [
       "        filename  words\n",
       "0  crop_1006.png      1\n",
       "1  crop_1007.png      1\n",
       "2  crop_1008.png      1\n",
       "3  crop_1009.png      1\n",
       "4  crop_1010.png      1"
      ]
     },
     "metadata": {},
     "output_type": "display_data"
    },
    {
     "name": "stdout",
     "output_type": "stream",
     "text": [
      "Найдено 575 изображений.\n"
     ]
    },
    {
     "data": {
      "application/vnd.microsoft.datawrangler.viewer.v0+json": {
       "columns": [
        {
         "name": "index",
         "rawType": "int64",
         "type": "integer"
        },
        {
         "name": "filename",
         "rawType": "object",
         "type": "string"
        },
        {
         "name": "gt",
         "rawType": "object",
         "type": "string"
        },
        {
         "name": "path",
         "rawType": "object",
         "type": "string"
        }
       ],
       "ref": "19feb196-9395-4f7e-adc7-d4c012ca4b33",
       "rows": [
        [
         "0",
         "crop_1006.png",
         "1",
         "c:\\Users\\thjat\\ml-system-design-aith\\dataset\\crops\\crop_1006.png"
        ],
        [
         "1",
         "crop_1007.png",
         "1",
         "c:\\Users\\thjat\\ml-system-design-aith\\dataset\\crops\\crop_1007.png"
        ],
        [
         "2",
         "crop_1008.png",
         "1",
         "c:\\Users\\thjat\\ml-system-design-aith\\dataset\\crops\\crop_1008.png"
        ],
        [
         "3",
         "crop_1009.png",
         "1",
         "c:\\Users\\thjat\\ml-system-design-aith\\dataset\\crops\\crop_1009.png"
        ],
        [
         "4",
         "crop_1010.png",
         "1",
         "c:\\Users\\thjat\\ml-system-design-aith\\dataset\\crops\\crop_1010.png"
        ]
       ],
       "shape": {
        "columns": 3,
        "rows": 5
       }
      },
      "text/html": [
       "<div>\n",
       "<style scoped>\n",
       "    .dataframe tbody tr th:only-of-type {\n",
       "        vertical-align: middle;\n",
       "    }\n",
       "\n",
       "    .dataframe tbody tr th {\n",
       "        vertical-align: top;\n",
       "    }\n",
       "\n",
       "    .dataframe thead th {\n",
       "        text-align: right;\n",
       "    }\n",
       "</style>\n",
       "<table border=\"1\" class=\"dataframe\">\n",
       "  <thead>\n",
       "    <tr style=\"text-align: right;\">\n",
       "      <th></th>\n",
       "      <th>filename</th>\n",
       "      <th>gt</th>\n",
       "      <th>path</th>\n",
       "    </tr>\n",
       "  </thead>\n",
       "  <tbody>\n",
       "    <tr>\n",
       "      <th>0</th>\n",
       "      <td>crop_1006.png</td>\n",
       "      <td>1</td>\n",
       "      <td>c:\\Users\\thjat\\ml-system-design-aith\\dataset\\c...</td>\n",
       "    </tr>\n",
       "    <tr>\n",
       "      <th>1</th>\n",
       "      <td>crop_1007.png</td>\n",
       "      <td>1</td>\n",
       "      <td>c:\\Users\\thjat\\ml-system-design-aith\\dataset\\c...</td>\n",
       "    </tr>\n",
       "    <tr>\n",
       "      <th>2</th>\n",
       "      <td>crop_1008.png</td>\n",
       "      <td>1</td>\n",
       "      <td>c:\\Users\\thjat\\ml-system-design-aith\\dataset\\c...</td>\n",
       "    </tr>\n",
       "    <tr>\n",
       "      <th>3</th>\n",
       "      <td>crop_1009.png</td>\n",
       "      <td>1</td>\n",
       "      <td>c:\\Users\\thjat\\ml-system-design-aith\\dataset\\c...</td>\n",
       "    </tr>\n",
       "    <tr>\n",
       "      <th>4</th>\n",
       "      <td>crop_1010.png</td>\n",
       "      <td>1</td>\n",
       "      <td>c:\\Users\\thjat\\ml-system-design-aith\\dataset\\c...</td>\n",
       "    </tr>\n",
       "  </tbody>\n",
       "</table>\n",
       "</div>"
      ],
      "text/plain": [
       "        filename gt                                               path\n",
       "0  crop_1006.png  1  c:\\Users\\thjat\\ml-system-design-aith\\dataset\\c...\n",
       "1  crop_1007.png  1  c:\\Users\\thjat\\ml-system-design-aith\\dataset\\c...\n",
       "2  crop_1008.png  1  c:\\Users\\thjat\\ml-system-design-aith\\dataset\\c...\n",
       "3  crop_1009.png  1  c:\\Users\\thjat\\ml-system-design-aith\\dataset\\c...\n",
       "4  crop_1010.png  1  c:\\Users\\thjat\\ml-system-design-aith\\dataset\\c..."
      ]
     },
     "metadata": {},
     "output_type": "display_data"
    }
   ],
   "source": [
    "# Cell 3: Загрузка CSV с аннотациями и формирование списка изображений\n",
    "df = pd.read_csv(CSV_PATH)\n",
    "print(\"Первые 5 строк CSV:\")\n",
    "display(df.head())\n",
    "\n",
    "# Собираем DataFrame с полным путём и ground-truth\n",
    "data = []\n",
    "for _, row in df.iterrows():\n",
    "    fname = row['filename']\n",
    "    gt    = str(row['words'])\n",
    "    img_path = os.path.join(IMAGES_DIR, fname)\n",
    "    if os.path.isfile(img_path):\n",
    "        data.append({'filename': fname, 'gt': gt, 'path': img_path})\n",
    "data = pd.DataFrame(data)\n",
    "print(f\"Найдено {len(data)} изображений.\")\n",
    "display(data.head())\n"
   ]
  },
  {
   "cell_type": "code",
   "execution_count": 54,
   "id": "7247c26f",
   "metadata": {},
   "outputs": [
    {
     "name": "stdout",
     "output_type": "stream",
     "text": [
      "Cell 4: Функция Левенштейна готова.\n"
     ]
    }
   ],
   "source": [
    "# Cell 4: Функция для подсчёта расстояния Левенштейна\n",
    "def levenshtein_distance(a: str, b: str) -> int:\n",
    "    if a == b:\n",
    "        return 0\n",
    "    if len(a) == 0:\n",
    "        return len(b)\n",
    "    if len(b) == 0:\n",
    "        return len(a)\n",
    "    n, m = len(a), len(b)\n",
    "    dp = np.zeros((n + 1, m + 1), dtype=int)\n",
    "    for i in range(n + 1):\n",
    "        dp[i, 0] = i\n",
    "    for j in range(m + 1):\n",
    "        dp[0, j] = j\n",
    "    for i in range(1, n + 1):\n",
    "        for j in range(1, m + 1):\n",
    "            cost = 0 if a[i - 1] == b[j - 1] else 1\n",
    "            dp[i, j] = min(\n",
    "                dp[i - 1, j] + 1,\n",
    "                dp[i, j - 1] + 1,\n",
    "                dp[i - 1, j - 1] + cost\n",
    "            )\n",
    "    return int(dp[n, m])\n",
    "\n",
    "print(\"Cell 4: Функция Левенштейна готова.\")\n"
   ]
  },
  {
   "cell_type": "code",
   "execution_count": 58,
   "id": "b9b77cf8",
   "metadata": {},
   "outputs": [
    {
     "name": "stdout",
     "output_type": "stream",
     "text": [
      "Первая модель загружена на cpu\n",
      "Вторая модель загружена на cpu\n"
     ]
    }
   ],
   "source": [
    "# Cell 5: Переписанная загрузка модели + создание конвертера (CTC/Attn) без \"module.\" в state_dict\n",
    "from custom_inference.deep_text_recognition.model import Model\n",
    "from custom_inference.deep_text_recognition.utils import AttnLabelConverter, CTCLabelConverter\n",
    "\n",
    "\n",
    "def load_model_and_converter_strip(opt, weights_path: str, device=None):\n",
    "    if device is None:\n",
    "        device = torch.device(\"cuda\" if torch.cuda.is_available() else \"cpu\")\n",
    "    else:\n",
    "        device = torch.device(device)\n",
    "    model = Model(opt).to(device)\n",
    "\n",
    "    raw_sd = torch.load(weights_path, map_location=device)\n",
    "    stripped_sd = {}\n",
    "    for k, v in raw_sd.items():\n",
    "        new_key = k.replace(\"module.\", \"\") if k.startswith(\"module.\") else k\n",
    "        stripped_sd[new_key] = v\n",
    "\n",
    "    model.load_state_dict(stripped_sd)\n",
    "    model.eval()\n",
    "\n",
    "    if opt.Prediction == 'CTC':\n",
    "        converter = CTCLabelConverter(opt.character)\n",
    "    elif opt.Prediction == 'Attn':\n",
    "        converter = AttnLabelConverter(opt.character)\n",
    "    else:\n",
    "        raise ValueError(f\"Unknown Prediction: {opt.Prediction}\")\n",
    "\n",
    "    return model, converter\n",
    "\n",
    "# Тест загрузки для обеих моделей\n",
    "try:\n",
    "    model1, converter1 = load_model_and_converter_strip(opt1, pth1)\n",
    "    device1 = next(model1.parameters()).device\n",
    "    print(f\"Первая модель загружена на {device1}\")\n",
    "except Exception as e:\n",
    "    print(\"Ошибка при загрузке первой модели:\", e)\n",
    "\n",
    "try:\n",
    "    model2, converter2 = load_model_and_converter_strip(opt2, pth2)\n",
    "    device2 = next(model2.parameters()).device\n",
    "    print(f\"Вторая модель загружена на {device2}\")\n",
    "except Exception as e:\n",
    "    print(\"Ошибка при загрузке второй модели:\", e)\n"
   ]
  },
  {
   "cell_type": "code",
   "execution_count": 62,
   "id": "f2312fe7",
   "metadata": {},
   "outputs": [
    {
     "name": "stdout",
     "output_type": "stream",
     "text": [
      "Тестовая картинка: c:\\Users\\thjat\\ml-system-design-aith\\dataset\\crops\\crop_1006.png, shape = (172, 104, 3)\n",
      "Первое предсказание (модель 1): 'liedlylyedly'\n",
      "Первое предсказание (модель 2): '1'\n"
     ]
    }
   ],
   "source": [
    "# Cell 6: Исправленная функция predict_text для корректного вызова forward (добавляем text для Attn)\n",
    "def predict_text_fixed(model: torch.nn.Module, converter, frame: np.ndarray, opt) -> str:\n",
    "    device = next(model.parameters()).device\n",
    "\n",
    "    # 1) BGR -> RGB -> PIL\n",
    "    frame_rgb = cv2.cvtColor(frame, cv2.COLOR_BGR2RGB)\n",
    "    pil_img = Image.fromarray(frame_rgb)\n",
    "\n",
    "    # 2) Каналы\n",
    "    if opt.input_channel == 1:\n",
    "        pil_img = pil_img.convert('L')\n",
    "    else:\n",
    "        pil_img = pil_img.convert('RGB')\n",
    "\n",
    "    # 3) Препроцессинг: Resize, ToTensor, Normalize\n",
    "    transform_list = [\n",
    "        transforms.Resize((opt.imgH, opt.imgW)),\n",
    "        transforms.ToTensor()\n",
    "    ]\n",
    "    if opt.input_channel == 1:\n",
    "        transform_list.append(transforms.Normalize(mean=[0.5], std=[0.5]))\n",
    "    else:\n",
    "        transform_list.append(transforms.Normalize(mean=[0.5, 0.5, 0.5],\n",
    "                                                   std=[0.5, 0.5, 0.5]))\n",
    "    preprocess = transforms.Compose(transform_list)\n",
    "\n",
    "    input_tensor = preprocess(pil_img)                  # [C, H, W]\n",
    "    input_batch  = input_tensor.unsqueeze(0).to(device)  # [1, C, H, W]\n",
    "\n",
    "    # 4) Forward: для Attn нужен текстовый ввод; для CTC — нет\n",
    "    with torch.no_grad():\n",
    "        if opt.Prediction == 'Attn':\n",
    "            # создаём текстовый тензор: [batch=1, max_length]\n",
    "            text_input = torch.zeros((1, opt.batch_max_length), dtype=torch.long).to(device)\n",
    "            text_input[:, 0] = 0  # <SOS> в первой позиции\n",
    "            output = model(input_batch, text_input, False)\n",
    "        else:  # CTC\n",
    "            output = model(input_batch)\n",
    "\n",
    "    # 5) Декодинг\n",
    "    if opt.Prediction == 'CTC':\n",
    "        logits = output.log_softmax(2)          # [1, seq_len, num_classes]\n",
    "        _, preds_index = logits.max(2)          # [1, seq_len]\n",
    "        preds_index = preds_index.view(1, -1)\n",
    "\n",
    "        seq_length = preds_index.size(1)\n",
    "        length_for_pred = torch.IntTensor([seq_length]).to(device)\n",
    "\n",
    "        preds_str_list = converter.decode(preds_index, length_for_pred)\n",
    "        preds_str = preds_str_list[0]\n",
    "\n",
    "    else:  # Attn\n",
    "        _, preds_index = output.max(2)         # [1, max_length]\n",
    "        preds_index = preds_index.view(1, -1)\n",
    "\n",
    "        length_for_pred = torch.IntTensor([opt.batch_max_length]).to(device)\n",
    "        preds_str_list = converter.decode(preds_index, length_for_pred)\n",
    "        preds_str = preds_str_list[0]\n",
    "\n",
    "    preds_str = preds_str.replace('[s]', '')\n",
    "    return preds_str\n",
    "\n",
    "# Проверим predict_text_fixed на одной картинке\n",
    "sample_path = data.loc[0, 'path']\n",
    "img_bgr = cv2.imread(sample_path)\n",
    "print(f\"Тестовая картинка: {sample_path}, shape = {img_bgr.shape}\")\n",
    "\n",
    "pred1 = predict_text_fixed(model1, converter1, img_bgr, opt1)\n",
    "print(\"Первое предсказание (модель 1):\", repr(pred1))\n",
    "\n",
    "pred2 = predict_text_fixed(model2, converter2, img_bgr, opt2)\n",
    "print(\"Первое предсказание (модель 2):\", repr(pred2))\n"
   ]
  },
  {
   "cell_type": "code",
   "execution_count": 63,
   "id": "14dc5ee1",
   "metadata": {},
   "outputs": [
    {
     "name": "stdout",
     "output_type": "stream",
     "text": [
      "\n",
      "=== Инференс моделью: TPS-ResNet-BiLSTM-Attn ===\n",
      "Первые 5 предсказаний для TPS-ResNet-BiLSTM-Attn:\n"
     ]
    },
    {
     "data": {
      "application/vnd.microsoft.datawrangler.viewer.v0+json": {
       "columns": [
        {
         "name": "index",
         "rawType": "int64",
         "type": "integer"
        },
        {
         "name": "filename",
         "rawType": "object",
         "type": "string"
        },
        {
         "name": "pred",
         "rawType": "object",
         "type": "string"
        },
        {
         "name": "lev_dist",
         "rawType": "int64",
         "type": "integer"
        }
       ],
       "ref": "4fc57957-bd20-444a-81aa-d28abd812bb4",
       "rows": [
        [
         "0",
         "crop_1006.png",
         "liedlylyedly",
         "12"
        ],
        [
         "1",
         "crop_1007.png",
         "letingy",
         "7"
        ],
        [
         "2",
         "crop_1008.png",
         "lingedlylyedly",
         "14"
        ],
        [
         "3",
         "crop_1009.png",
         "linedlyly",
         "9"
        ],
        [
         "4",
         "crop_1010.png",
         "lingedesly",
         "10"
        ]
       ],
       "shape": {
        "columns": 3,
        "rows": 5
       }
      },
      "text/html": [
       "<div>\n",
       "<style scoped>\n",
       "    .dataframe tbody tr th:only-of-type {\n",
       "        vertical-align: middle;\n",
       "    }\n",
       "\n",
       "    .dataframe tbody tr th {\n",
       "        vertical-align: top;\n",
       "    }\n",
       "\n",
       "    .dataframe thead th {\n",
       "        text-align: right;\n",
       "    }\n",
       "</style>\n",
       "<table border=\"1\" class=\"dataframe\">\n",
       "  <thead>\n",
       "    <tr style=\"text-align: right;\">\n",
       "      <th></th>\n",
       "      <th>filename</th>\n",
       "      <th>pred</th>\n",
       "      <th>lev_dist</th>\n",
       "    </tr>\n",
       "  </thead>\n",
       "  <tbody>\n",
       "    <tr>\n",
       "      <th>0</th>\n",
       "      <td>crop_1006.png</td>\n",
       "      <td>liedlylyedly</td>\n",
       "      <td>12</td>\n",
       "    </tr>\n",
       "    <tr>\n",
       "      <th>1</th>\n",
       "      <td>crop_1007.png</td>\n",
       "      <td>letingy</td>\n",
       "      <td>7</td>\n",
       "    </tr>\n",
       "    <tr>\n",
       "      <th>2</th>\n",
       "      <td>crop_1008.png</td>\n",
       "      <td>lingedlylyedly</td>\n",
       "      <td>14</td>\n",
       "    </tr>\n",
       "    <tr>\n",
       "      <th>3</th>\n",
       "      <td>crop_1009.png</td>\n",
       "      <td>linedlyly</td>\n",
       "      <td>9</td>\n",
       "    </tr>\n",
       "    <tr>\n",
       "      <th>4</th>\n",
       "      <td>crop_1010.png</td>\n",
       "      <td>lingedesly</td>\n",
       "      <td>10</td>\n",
       "    </tr>\n",
       "  </tbody>\n",
       "</table>\n",
       "</div>"
      ],
      "text/plain": [
       "        filename            pred  lev_dist\n",
       "0  crop_1006.png    liedlylyedly        12\n",
       "1  crop_1007.png         letingy         7\n",
       "2  crop_1008.png  lingedlylyedly        14\n",
       "3  crop_1009.png       linedlyly         9\n",
       "4  crop_1010.png      lingedesly        10"
      ]
     },
     "metadata": {},
     "output_type": "display_data"
    },
    {
     "name": "stdout",
     "output_type": "stream",
     "text": [
      "\n",
      "=== Инференс моделью: best_accuracy ===\n",
      "Первые 5 предсказаний для best_accuracy:\n"
     ]
    },
    {
     "data": {
      "application/vnd.microsoft.datawrangler.viewer.v0+json": {
       "columns": [
        {
         "name": "index",
         "rawType": "int64",
         "type": "integer"
        },
        {
         "name": "filename",
         "rawType": "object",
         "type": "string"
        },
        {
         "name": "pred",
         "rawType": "object",
         "type": "string"
        },
        {
         "name": "lev_dist",
         "rawType": "int64",
         "type": "integer"
        }
       ],
       "ref": "5e072765-52eb-4927-b9e5-849477e2969e",
       "rows": [
        [
         "0",
         "crop_1006.png",
         "1",
         "0"
        ],
        [
         "1",
         "crop_1007.png",
         "1",
         "0"
        ],
        [
         "2",
         "crop_1008.png",
         "1",
         "0"
        ],
        [
         "3",
         "crop_1009.png",
         "1",
         "0"
        ],
        [
         "4",
         "crop_1010.png",
         "1",
         "0"
        ]
       ],
       "shape": {
        "columns": 3,
        "rows": 5
       }
      },
      "text/html": [
       "<div>\n",
       "<style scoped>\n",
       "    .dataframe tbody tr th:only-of-type {\n",
       "        vertical-align: middle;\n",
       "    }\n",
       "\n",
       "    .dataframe tbody tr th {\n",
       "        vertical-align: top;\n",
       "    }\n",
       "\n",
       "    .dataframe thead th {\n",
       "        text-align: right;\n",
       "    }\n",
       "</style>\n",
       "<table border=\"1\" class=\"dataframe\">\n",
       "  <thead>\n",
       "    <tr style=\"text-align: right;\">\n",
       "      <th></th>\n",
       "      <th>filename</th>\n",
       "      <th>pred</th>\n",
       "      <th>lev_dist</th>\n",
       "    </tr>\n",
       "  </thead>\n",
       "  <tbody>\n",
       "    <tr>\n",
       "      <th>0</th>\n",
       "      <td>crop_1006.png</td>\n",
       "      <td>1</td>\n",
       "      <td>0</td>\n",
       "    </tr>\n",
       "    <tr>\n",
       "      <th>1</th>\n",
       "      <td>crop_1007.png</td>\n",
       "      <td>1</td>\n",
       "      <td>0</td>\n",
       "    </tr>\n",
       "    <tr>\n",
       "      <th>2</th>\n",
       "      <td>crop_1008.png</td>\n",
       "      <td>1</td>\n",
       "      <td>0</td>\n",
       "    </tr>\n",
       "    <tr>\n",
       "      <th>3</th>\n",
       "      <td>crop_1009.png</td>\n",
       "      <td>1</td>\n",
       "      <td>0</td>\n",
       "    </tr>\n",
       "    <tr>\n",
       "      <th>4</th>\n",
       "      <td>crop_1010.png</td>\n",
       "      <td>1</td>\n",
       "      <td>0</td>\n",
       "    </tr>\n",
       "  </tbody>\n",
       "</table>\n",
       "</div>"
      ],
      "text/plain": [
       "        filename pred  lev_dist\n",
       "0  crop_1006.png    1         0\n",
       "1  crop_1007.png    1         0\n",
       "2  crop_1008.png    1         0\n",
       "3  crop_1009.png    1         0\n",
       "4  crop_1010.png    1         0"
      ]
     },
     "metadata": {},
     "output_type": "display_data"
    }
   ],
   "source": [
    "# Cell 7: Полный inference по всем изображениям для обеих моделей с predict_text_fixed\n",
    "results = {}\n",
    "\n",
    "for model_name, (opt, model, converter) in [\n",
    "    ('TPS-ResNet-BiLSTM-Attn', (opt1, model1, converter1)),\n",
    "    ('best_accuracy',           (opt2, model2, converter2))\n",
    "]:\n",
    "    print(f\"\\n=== Инференс моделью: {model_name} ===\")\n",
    "    preds_for_model = []\n",
    "    for _, row in data.iterrows():\n",
    "        img_path = row['path']\n",
    "        img_bgr  = cv2.imread(img_path)\n",
    "        if img_bgr is None:\n",
    "            preds_for_model.append({'filename': row['filename'], 'pred': '', 'lev_dist': None})\n",
    "            continue\n",
    "        pred_text = predict_text_fixed(model, converter, img_bgr, opt)\n",
    "        lev = levenshtein_distance(pred_text, row['gt'])\n",
    "        preds_for_model.append({\n",
    "            'filename': row['filename'],\n",
    "            'pred': pred_text,\n",
    "            'lev_dist': lev\n",
    "        })\n",
    "    results[model_name] = pd.DataFrame(preds_for_model)\n",
    "    print(f\"Первые 5 предсказаний для {model_name}:\")\n",
    "    display(results[model_name].head())\n"
   ]
  },
  {
   "cell_type": "code",
   "execution_count": 64,
   "id": "b722fc16",
   "metadata": {},
   "outputs": [
    {
     "name": "stdout",
     "output_type": "stream",
     "text": [
      "Сводная таблица (первые 10 строк):\n"
     ]
    },
    {
     "data": {
      "application/vnd.microsoft.datawrangler.viewer.v0+json": {
       "columns": [
        {
         "name": "index",
         "rawType": "int64",
         "type": "integer"
        },
        {
         "name": "filename",
         "rawType": "object",
         "type": "string"
        },
        {
         "name": "gt",
         "rawType": "object",
         "type": "string"
        },
        {
         "name": "pred_TPS-ResNet-BiLSTM-Attn",
         "rawType": "object",
         "type": "string"
        },
        {
         "name": "lev_TPS-ResNet-BiLSTM-Attn",
         "rawType": "int64",
         "type": "integer"
        },
        {
         "name": "pred_best_accuracy",
         "rawType": "object",
         "type": "string"
        },
        {
         "name": "lev_best_accuracy",
         "rawType": "int64",
         "type": "integer"
        }
       ],
       "ref": "15299d8c-aced-4f27-af47-e44cc38047c5",
       "rows": [
        [
         "0",
         "crop_1006.png",
         "1",
         "liedlylyedly",
         "12",
         "1",
         "0"
        ],
        [
         "1",
         "crop_1007.png",
         "1",
         "letingy",
         "7",
         "1",
         "0"
        ],
        [
         "2",
         "crop_1008.png",
         "1",
         "lingedlylyedly",
         "14",
         "1",
         "0"
        ],
        [
         "3",
         "crop_1009.png",
         "1",
         "linedlyly",
         "9",
         "1",
         "0"
        ],
        [
         "4",
         "crop_1010.png",
         "1",
         "lingedesly",
         "10",
         "1",
         "0"
        ],
        [
         "5",
         "crop_1011.png",
         "1",
         "letingesylye",
         "12",
         "1",
         "0"
        ],
        [
         "6",
         "crop_1012.png",
         "2",
         "letingyesylys",
         "13",
         "2",
         "0"
        ],
        [
         "7",
         "crop_1013.png",
         "2",
         "letingylyses",
         "12",
         "2",
         "0"
        ],
        [
         "8",
         "crop_1014.png",
         "2",
         "letingyeeslyly",
         "14",
         "2",
         "0"
        ],
        [
         "9",
         "crop_1015.png",
         "2",
         "listedlylyse",
         "12",
         "2",
         "0"
        ]
       ],
       "shape": {
        "columns": 6,
        "rows": 10
       }
      },
      "text/html": [
       "<div>\n",
       "<style scoped>\n",
       "    .dataframe tbody tr th:only-of-type {\n",
       "        vertical-align: middle;\n",
       "    }\n",
       "\n",
       "    .dataframe tbody tr th {\n",
       "        vertical-align: top;\n",
       "    }\n",
       "\n",
       "    .dataframe thead th {\n",
       "        text-align: right;\n",
       "    }\n",
       "</style>\n",
       "<table border=\"1\" class=\"dataframe\">\n",
       "  <thead>\n",
       "    <tr style=\"text-align: right;\">\n",
       "      <th></th>\n",
       "      <th>filename</th>\n",
       "      <th>gt</th>\n",
       "      <th>pred_TPS-ResNet-BiLSTM-Attn</th>\n",
       "      <th>lev_TPS-ResNet-BiLSTM-Attn</th>\n",
       "      <th>pred_best_accuracy</th>\n",
       "      <th>lev_best_accuracy</th>\n",
       "    </tr>\n",
       "  </thead>\n",
       "  <tbody>\n",
       "    <tr>\n",
       "      <th>0</th>\n",
       "      <td>crop_1006.png</td>\n",
       "      <td>1</td>\n",
       "      <td>liedlylyedly</td>\n",
       "      <td>12</td>\n",
       "      <td>1</td>\n",
       "      <td>0</td>\n",
       "    </tr>\n",
       "    <tr>\n",
       "      <th>1</th>\n",
       "      <td>crop_1007.png</td>\n",
       "      <td>1</td>\n",
       "      <td>letingy</td>\n",
       "      <td>7</td>\n",
       "      <td>1</td>\n",
       "      <td>0</td>\n",
       "    </tr>\n",
       "    <tr>\n",
       "      <th>2</th>\n",
       "      <td>crop_1008.png</td>\n",
       "      <td>1</td>\n",
       "      <td>lingedlylyedly</td>\n",
       "      <td>14</td>\n",
       "      <td>1</td>\n",
       "      <td>0</td>\n",
       "    </tr>\n",
       "    <tr>\n",
       "      <th>3</th>\n",
       "      <td>crop_1009.png</td>\n",
       "      <td>1</td>\n",
       "      <td>linedlyly</td>\n",
       "      <td>9</td>\n",
       "      <td>1</td>\n",
       "      <td>0</td>\n",
       "    </tr>\n",
       "    <tr>\n",
       "      <th>4</th>\n",
       "      <td>crop_1010.png</td>\n",
       "      <td>1</td>\n",
       "      <td>lingedesly</td>\n",
       "      <td>10</td>\n",
       "      <td>1</td>\n",
       "      <td>0</td>\n",
       "    </tr>\n",
       "    <tr>\n",
       "      <th>5</th>\n",
       "      <td>crop_1011.png</td>\n",
       "      <td>1</td>\n",
       "      <td>letingesylye</td>\n",
       "      <td>12</td>\n",
       "      <td>1</td>\n",
       "      <td>0</td>\n",
       "    </tr>\n",
       "    <tr>\n",
       "      <th>6</th>\n",
       "      <td>crop_1012.png</td>\n",
       "      <td>2</td>\n",
       "      <td>letingyesylys</td>\n",
       "      <td>13</td>\n",
       "      <td>2</td>\n",
       "      <td>0</td>\n",
       "    </tr>\n",
       "    <tr>\n",
       "      <th>7</th>\n",
       "      <td>crop_1013.png</td>\n",
       "      <td>2</td>\n",
       "      <td>letingylyses</td>\n",
       "      <td>12</td>\n",
       "      <td>2</td>\n",
       "      <td>0</td>\n",
       "    </tr>\n",
       "    <tr>\n",
       "      <th>8</th>\n",
       "      <td>crop_1014.png</td>\n",
       "      <td>2</td>\n",
       "      <td>letingyeeslyly</td>\n",
       "      <td>14</td>\n",
       "      <td>2</td>\n",
       "      <td>0</td>\n",
       "    </tr>\n",
       "    <tr>\n",
       "      <th>9</th>\n",
       "      <td>crop_1015.png</td>\n",
       "      <td>2</td>\n",
       "      <td>listedlylyse</td>\n",
       "      <td>12</td>\n",
       "      <td>2</td>\n",
       "      <td>0</td>\n",
       "    </tr>\n",
       "  </tbody>\n",
       "</table>\n",
       "</div>"
      ],
      "text/plain": [
       "        filename gt pred_TPS-ResNet-BiLSTM-Attn  lev_TPS-ResNet-BiLSTM-Attn  \\\n",
       "0  crop_1006.png  1                liedlylyedly                          12   \n",
       "1  crop_1007.png  1                     letingy                           7   \n",
       "2  crop_1008.png  1              lingedlylyedly                          14   \n",
       "3  crop_1009.png  1                   linedlyly                           9   \n",
       "4  crop_1010.png  1                  lingedesly                          10   \n",
       "5  crop_1011.png  1                letingesylye                          12   \n",
       "6  crop_1012.png  2               letingyesylys                          13   \n",
       "7  crop_1013.png  2                letingylyses                          12   \n",
       "8  crop_1014.png  2              letingyeeslyly                          14   \n",
       "9  crop_1015.png  2                listedlylyse                          12   \n",
       "\n",
       "  pred_best_accuracy  lev_best_accuracy  \n",
       "0                  1                  0  \n",
       "1                  1                  0  \n",
       "2                  1                  0  \n",
       "3                  1                  0  \n",
       "4                  1                  0  \n",
       "5                  1                  0  \n",
       "6                  2                  0  \n",
       "7                  2                  0  \n",
       "8                  2                  0  \n",
       "9                  2                  0  "
      ]
     },
     "metadata": {},
     "output_type": "display_data"
    }
   ],
   "source": [
    "# Cell 8: Объединяем результаты в одну таблицу и сравниваем\n",
    "compare_df = data[['filename', 'gt']].copy()\n",
    "for model_name, df_pred in results.items():\n",
    "    compare_df = compare_df.merge(\n",
    "        df_pred.rename(columns={'pred': f'pred_{model_name}', 'lev_dist': f'lev_{model_name}'}),\n",
    "        on='filename', how='left'\n",
    "    )\n",
    "\n",
    "print(\"Сводная таблица (первые 10 строк):\")\n",
    "display(compare_df.head(10))\n"
   ]
  },
  {
   "cell_type": "code",
   "execution_count": 65,
   "id": "d2be3bca",
   "metadata": {},
   "outputs": [
    {
     "name": "stdout",
     "output_type": "stream",
     "text": [
      "Итоговые метрики по моделям:\n"
     ]
    },
    {
     "data": {
      "application/vnd.microsoft.datawrangler.viewer.v0+json": {
       "columns": [
        {
         "name": "index",
         "rawType": "int64",
         "type": "integer"
        },
        {
         "name": "model",
         "rawType": "object",
         "type": "string"
        },
        {
         "name": "total_images",
         "rawType": "int64",
         "type": "integer"
        },
        {
         "name": "exact_matches",
         "rawType": "int64",
         "type": "integer"
        },
        {
         "name": "word_accuracy",
         "rawType": "float64",
         "type": "float"
        },
        {
         "name": "mean_levenshtein",
         "rawType": "float64",
         "type": "float"
        }
       ],
       "ref": "8eafa87a-5e0e-4929-bfe4-9097a0bf228f",
       "rows": [
        [
         "0",
         "TPS-ResNet-BiLSTM-Attn",
         "575",
         "0",
         "0.0",
         "10.326956521739131"
        ],
        [
         "1",
         "best_accuracy",
         "575",
         "558",
         "0.9704347826086956",
         "0.03304347826086956"
        ]
       ],
       "shape": {
        "columns": 5,
        "rows": 2
       }
      },
      "text/html": [
       "<div>\n",
       "<style scoped>\n",
       "    .dataframe tbody tr th:only-of-type {\n",
       "        vertical-align: middle;\n",
       "    }\n",
       "\n",
       "    .dataframe tbody tr th {\n",
       "        vertical-align: top;\n",
       "    }\n",
       "\n",
       "    .dataframe thead th {\n",
       "        text-align: right;\n",
       "    }\n",
       "</style>\n",
       "<table border=\"1\" class=\"dataframe\">\n",
       "  <thead>\n",
       "    <tr style=\"text-align: right;\">\n",
       "      <th></th>\n",
       "      <th>model</th>\n",
       "      <th>total_images</th>\n",
       "      <th>exact_matches</th>\n",
       "      <th>word_accuracy</th>\n",
       "      <th>mean_levenshtein</th>\n",
       "    </tr>\n",
       "  </thead>\n",
       "  <tbody>\n",
       "    <tr>\n",
       "      <th>0</th>\n",
       "      <td>TPS-ResNet-BiLSTM-Attn</td>\n",
       "      <td>575</td>\n",
       "      <td>0</td>\n",
       "      <td>0.000000</td>\n",
       "      <td>10.326957</td>\n",
       "    </tr>\n",
       "    <tr>\n",
       "      <th>1</th>\n",
       "      <td>best_accuracy</td>\n",
       "      <td>575</td>\n",
       "      <td>558</td>\n",
       "      <td>0.970435</td>\n",
       "      <td>0.033043</td>\n",
       "    </tr>\n",
       "  </tbody>\n",
       "</table>\n",
       "</div>"
      ],
      "text/plain": [
       "                    model  total_images  exact_matches  word_accuracy  \\\n",
       "0  TPS-ResNet-BiLSTM-Attn           575              0       0.000000   \n",
       "1           best_accuracy           575            558       0.970435   \n",
       "\n",
       "   mean_levenshtein  \n",
       "0         10.326957  \n",
       "1          0.033043  "
      ]
     },
     "metadata": {},
     "output_type": "display_data"
    }
   ],
   "source": [
    "# Cell 9: Подсчёт итоговых метрик: точность слова и средняя Левенштейна\n",
    "metrics = []\n",
    "for model_name in results.keys():\n",
    "    pred_col = f'pred_{model_name}'\n",
    "    lev_col  = f'lev_{model_name}'\n",
    "    total = len(compare_df)\n",
    "    exact_match = (compare_df[lev_col] == 0).sum()\n",
    "    word_acc = exact_match / total if total > 0 else 0.0\n",
    "    valid_lev = compare_df[lev_col].dropna()\n",
    "    mean_lev = valid_lev.mean() if len(valid_lev) > 0 else float('nan')\n",
    "    metrics.append({\n",
    "        'model': model_name,\n",
    "        'total_images': total,\n",
    "        'exact_matches': int(exact_match),\n",
    "        'word_accuracy': float(word_acc),\n",
    "        'mean_levenshtein': float(mean_lev)\n",
    "    })\n",
    "\n",
    "metrics_df = pd.DataFrame(metrics)\n",
    "print(\"Итоговые метрики по моделям:\")\n",
    "display(metrics_df)\n"
   ]
  },
  {
   "cell_type": "code",
   "execution_count": 66,
   "id": "96707296",
   "metadata": {},
   "outputs": [
    {
     "name": "stdout",
     "output_type": "stream",
     "text": [
      "Результаты сохранены в папке c:\\Users\\thjat\\ml-system-design-aith\\training\\comparision\n"
     ]
    }
   ],
   "source": [
    "# Cell 10 (опционально): Сохранение результатов в CSV\n",
    "out_dir = os.path.join(project_root, 'training', 'comparision')\n",
    "os.makedirs(out_dir, exist_ok=True)\n",
    "compare_df.to_csv(os.path.join(out_dir, 'ocr_comparison_results.csv'), index=False)\n",
    "metrics_df.to_csv(os.path.join(out_dir, 'ocr_comparison_metrics.csv'), index=False)\n",
    "print(f\"Результаты сохранены в папке {out_dir}\")\n"
   ]
  },
  {
   "cell_type": "code",
   "execution_count": 67,
   "id": "24758898",
   "metadata": {},
   "outputs": [
    {
     "name": "stdout",
     "output_type": "stream",
     "text": [
      "Итоговые метрики:\n"
     ]
    },
    {
     "data": {
      "application/vnd.microsoft.datawrangler.viewer.v0+json": {
       "columns": [
        {
         "name": "index",
         "rawType": "int64",
         "type": "integer"
        },
        {
         "name": "model",
         "rawType": "object",
         "type": "string"
        },
        {
         "name": "total_images",
         "rawType": "int64",
         "type": "integer"
        },
        {
         "name": "exact_matches",
         "rawType": "int64",
         "type": "integer"
        },
        {
         "name": "word_accuracy",
         "rawType": "float64",
         "type": "float"
        },
        {
         "name": "mean_levenshtein",
         "rawType": "float64",
         "type": "float"
        }
       ],
       "ref": "d828fc7c-5cf6-4346-a1a0-b933860cab99",
       "rows": [
        [
         "0",
         "TPS-ResNet-BiLSTM-Attn",
         "575",
         "0",
         "0.0",
         "10.326956521739131"
        ],
        [
         "1",
         "best_accuracy",
         "575",
         "558",
         "0.9704347826086956",
         "0.03304347826086956"
        ]
       ],
       "shape": {
        "columns": 5,
        "rows": 2
       }
      },
      "text/html": [
       "<div>\n",
       "<style scoped>\n",
       "    .dataframe tbody tr th:only-of-type {\n",
       "        vertical-align: middle;\n",
       "    }\n",
       "\n",
       "    .dataframe tbody tr th {\n",
       "        vertical-align: top;\n",
       "    }\n",
       "\n",
       "    .dataframe thead th {\n",
       "        text-align: right;\n",
       "    }\n",
       "</style>\n",
       "<table border=\"1\" class=\"dataframe\">\n",
       "  <thead>\n",
       "    <tr style=\"text-align: right;\">\n",
       "      <th></th>\n",
       "      <th>model</th>\n",
       "      <th>total_images</th>\n",
       "      <th>exact_matches</th>\n",
       "      <th>word_accuracy</th>\n",
       "      <th>mean_levenshtein</th>\n",
       "    </tr>\n",
       "  </thead>\n",
       "  <tbody>\n",
       "    <tr>\n",
       "      <th>0</th>\n",
       "      <td>TPS-ResNet-BiLSTM-Attn</td>\n",
       "      <td>575</td>\n",
       "      <td>0</td>\n",
       "      <td>0.000000</td>\n",
       "      <td>10.326957</td>\n",
       "    </tr>\n",
       "    <tr>\n",
       "      <th>1</th>\n",
       "      <td>best_accuracy</td>\n",
       "      <td>575</td>\n",
       "      <td>558</td>\n",
       "      <td>0.970435</td>\n",
       "      <td>0.033043</td>\n",
       "    </tr>\n",
       "  </tbody>\n",
       "</table>\n",
       "</div>"
      ],
      "text/plain": [
       "                    model  total_images  exact_matches  word_accuracy  \\\n",
       "0  TPS-ResNet-BiLSTM-Attn           575              0       0.000000   \n",
       "1           best_accuracy           575            558       0.970435   \n",
       "\n",
       "   mean_levenshtein  \n",
       "0         10.326957  \n",
       "1          0.033043  "
      ]
     },
     "metadata": {},
     "output_type": "display_data"
    }
   ],
   "source": [
    "# Cell 11: Итоговые метрики (word accuracy, средняя Левенштейна) для обеих моделей\n",
    "metrics = []\n",
    "for model_name, df_pred in results.items():\n",
    "    if df_pred is None:\n",
    "        continue\n",
    "    pred_col = f'pred_{model_name}'\n",
    "    lev_col  = f'lev_{model_name}'\n",
    "\n",
    "    total = len(compare_df)\n",
    "    exact_match = (compare_df[lev_col] == 0).sum()\n",
    "    acc = exact_match / total if total > 0 else 0.0\n",
    "\n",
    "    valid_lev = compare_df[lev_col].dropna()\n",
    "    mean_lev = valid_lev.mean() if len(valid_lev) > 0 else np.nan\n",
    "\n",
    "    metrics.append({\n",
    "        'model': model_name,\n",
    "        'total_images': total,\n",
    "        'exact_matches': int(exact_match),\n",
    "        'word_accuracy': float(acc),\n",
    "        'mean_levenshtein': float(mean_lev)\n",
    "    })\n",
    "\n",
    "metrics_df = pd.DataFrame(metrics)\n",
    "print(\"Итоговые метрики:\")\n",
    "display(metrics_df)"
   ]
  },
  {
   "cell_type": "code",
   "execution_count": 69,
   "id": "8ade07e7",
   "metadata": {},
   "outputs": [
    {
     "name": "stdout",
     "output_type": "stream",
     "text": [
      "Результаты и метрики сохранены в папку training/comparision/\n"
     ]
    }
   ],
   "source": [
    "# Cell 12 (опционально): Сохраняем результаты\n",
    "os.makedirs(os.path.join(project_root, 'training', 'comparsion'), exist_ok=True)\n",
    "compare_df.to_csv(os.path.join(project_root, 'training', 'comparsion', 'ocr_comparsion_results.csv'), index=False)\n",
    "metrics_df.to_csv(os.path.join(project_root, 'training', 'comparsion', 'ocr_comparsion_metrics.csv'), index=False)\n",
    "print(\"Результаты и метрики сохранены в папку training/comparision/\")"
   ]
  }
 ],
 "metadata": {
  "kernelspec": {
   "display_name": ".venv",
   "language": "python",
   "name": "python3"
  },
  "language_info": {
   "codemirror_mode": {
    "name": "ipython",
    "version": 3
   },
   "file_extension": ".py",
   "mimetype": "text/x-python",
   "name": "python",
   "nbconvert_exporter": "python",
   "pygments_lexer": "ipython3",
   "version": "3.11.9"
  }
 },
 "nbformat": 4,
 "nbformat_minor": 5
}
